{
  "cells": [
    {
      "cell_type": "markdown",
      "metadata": {},
      "source": [
        "# FiftyOne WandB Plugin Demo\n",
        "\n",
        "A minimal guide to using the FiftyOne WandB plugin operators.\n",
        "\n",
        "**Setup**: Set your WandB credentials first:\n",
        "```bash\n",
        "export FIFTYONE_WANDB_API_KEY=\"your-api-key\"\n",
        "export FIFTYONE_WANDB_ENTITY=\"your-username\"\n",
        "export FIFTYONE_WANDB_PROJECT=\"demo-project\"\n",
        "```\n"
      ]
    },
    {
      "cell_type": "code",
      "execution_count": null,
      "metadata": {},
      "outputs": [],
      "source": [
        "import fiftyone as fo\n",
        "import fiftyone.operators as foo\n",
        "import fiftyone.zoo as foz\n",
        "import wandb\n",
        "\n",
        "# Load sample dataset\n",
        "dataset = foz.load_zoo_dataset(\"quickstart\")\n",
        "print(f\"Loaded {len(dataset)} samples\")\n"
      ]
    },
    {
      "cell_type": "markdown",
      "metadata": {},
      "source": [
        "---\n",
        "\n",
        "## 1. Log FiftyOne View to WandB\n",
        "\n",
        "**Purpose**: Track your training/validation data with full label support.\n",
        "\n",
        "**When**: Before training, to version your datasets.\n",
        "\n",
        "**What it logs**:\n",
        "- Sample IDs for reproducibility\n",
        "- All labels (with per-class counts)\n",
        "- View serialization\n",
        "- Optional: embeddings\n",
        "\n",
        "**Expected artifact**: Dataset artifact with WandB Table containing labels.\n"
      ]
    },
    {
      "cell_type": "code",
      "execution_count": null,
      "metadata": {},
      "outputs": [],
      "source": [
        "# Create a training view\n",
        "train_view = dataset.match_tags(\"validation\").take(20)\n",
        "\n",
        "# Initialize WandB run\n",
        "run = wandb.init(project=\"demo-project\", name=\"training-run-1\")\n",
        "run_id = run.id\n",
        "wandb.finish()\n",
        "\n",
        "# Log view to WandB\n",
        "operator = foo.get_operator(\"@harpreetsahota/wandb/log_fiftyone_view_to_wandb\")\n",
        "result = operator(\n",
        "    train_view,\n",
        "    project=\"demo-project\",\n",
        "    run_id=run_id,\n",
        "    include_labels=True  # Logs all label types with counts\n",
        ")\n",
        "\n",
        "print(f\"✓ Logged {result['samples_logged']} samples\")\n",
        "print(f\"Artifact: {result['artifact_name']}\")\n",
        "print(f\"WandB: {result['wandb_url']}\")\n"
      ]
    },
    {
      "cell_type": "markdown",
      "metadata": {},
      "source": [
        "---\n",
        "\n",
        "## 2. Log Model Predictions to WandB\n",
        "\n",
        "**Purpose**: Track model inference outputs with detection-level granularity.\n",
        "\n",
        "**When**: After running `apply_model()`, to track model performance.\n",
        "\n",
        "**What it logs**:\n",
        "- Label IDs (for selecting specific predictions)\n",
        "- Prediction counts and confidence stats\n",
        "- Class distribution\n",
        "- Model configuration\n",
        "- Optional: per-sample prompts (for VLMs)\n",
        "\n",
        "**Expected artifact**: Predictions artifact with lightweight table (no images by default).\n"
      ]
    },
    {
      "cell_type": "code",
      "execution_count": null,
      "metadata": {},
      "outputs": [],
      "source": [
        "# Apply model (if predictions don't exist)\n",
        "if \"predictions\" not in dataset.get_field_schema():\n",
        "    model = foz.load_zoo_model(\"yolov8n-coco-torch\")\n",
        "    dataset.apply_model(model, label_field=\"predictions\")\n",
        "\n",
        "# Log predictions\n",
        "operator = foo.get_operator(\"@harpreetsahota/wandb/log_model_predictions\")\n",
        "result = operator(\n",
        "    dataset.take(20),\n",
        "    model_name=\"yolov8n\",\n",
        "    predictions_field=\"predictions\",\n",
        "    project=\"demo-project\"\n",
        ")\n",
        "\n",
        "print(f\"✓ Logged {result['total_predictions']} predictions\")\n",
        "print(f\"Classes: {result['num_classes']}\")\n",
        "print(f\"WandB: {result['wandb_url']}\")\n"
      ]
    },
    {
      "cell_type": "markdown",
      "metadata": {},
      "source": [
        "### VLM Example (with prompts)\n",
        "\n",
        "Track Vision Language Model outputs with per-sample prompts and global configuration:\n"
      ]
    },
    {
      "cell_type": "code",
      "execution_count": null,
      "metadata": {},
      "outputs": [],
      "source": [
        "# Add sample-specific prompts\n",
        "for sample in dataset.take(5):\n",
        "    sample[\"vlm_prompt\"] = \"Describe this image in detail\"\n",
        "    sample[\"vlm_output\"] = \"Example VLM caption...\"  # Your VLM output here\n",
        "    sample.save()\n",
        "\n",
        "# Log with prompts and config\n",
        "result = operator(\n",
        "    dataset.take(5),\n",
        "    model_name=\"gpt4-vision\",\n",
        "    predictions_field=\"vlm_output\",\n",
        "    project=\"demo-project\",\n",
        "    model_config={\n",
        "        \"system_prompt\": \"You are an expert analyst.\",\n",
        "        \"temperature\": 0.7,\n",
        "        \"max_tokens\": 150\n",
        "    },\n",
        "    prompt_field=\"vlm_prompt\"  # Sample-specific prompts\n",
        ")\n",
        "\n",
        "print(f\"✓ Logged VLM predictions with prompts\")\n"
      ]
    },
    {
      "cell_type": "markdown",
      "metadata": {},
      "source": [
        "---\n",
        "\n",
        "## 3. Complete Workflow: Dataset → Model → Predictions\n",
        "\n",
        "Track the full ML lifecycle:\n"
      ]
    },
    {
      "cell_type": "code",
      "execution_count": null,
      "metadata": {},
      "outputs": [],
      "source": [
        "# 1. Create and log training view\n",
        "train_view = dataset.match_tags(\"validation\").take(30)\n",
        "\n",
        "run = wandb.init(project=\"workflow-demo\", name=\"experiment-1\")\n",
        "run_id = run.id\n",
        "wandb.finish()\n",
        "\n",
        "log_view = foo.get_operator(\"@harpreetsahota/wandb/log_fiftyone_view_to_wandb\")\n",
        "view_result = log_view(train_view, project=\"workflow-demo\", run_id=run_id, include_labels=True)\n",
        "print(f\"✓ Training data: {view_result['artifact_name']}\")\n",
        "\n",
        "# 2. Apply model\n",
        "if \"predictions\" not in dataset.get_field_schema():\n",
        "    model = foz.load_zoo_model(\"yolov8n-coco-torch\")\n",
        "    dataset.apply_model(model, label_field=\"predictions\")\n",
        "print(f\"✓ Model applied\")\n",
        "\n",
        "# 3. Log predictions\n",
        "log_preds = foo.get_operator(\"@harpreetsahota/wandb/log_model_predictions\")\n",
        "pred_result = log_preds(\n",
        "    train_view,\n",
        "    model_name=\"yolov8n\",\n",
        "    predictions_field=\"predictions\",\n",
        "    project=\"workflow-demo\"\n",
        ")\n",
        "print(f\"✓ Predictions: {pred_result['artifact_name']} ({pred_result['total_predictions']} predictions)\")\n",
        "print(f\"\\\\n🎉 Complete! View: https://wandb.ai/[entity]/workflow-demo\")\n"
      ]
    },
    {
      "cell_type": "markdown",
      "metadata": {},
      "source": [
        "---\n",
        "\n",
        "## 4. Download and Use Artifacts\n",
        "\n",
        "Access logged data from WandB:\n"
      ]
    },
    {
      "cell_type": "code",
      "execution_count": null,
      "metadata": {},
      "outputs": [],
      "source": [
        "api = wandb.Api()\n",
        "\n",
        "# Get dataset artifact\n",
        "artifact_name = view_result['artifact_name']\n",
        "dataset_artifact = api.artifact(f\"voxel51/workflow-demo/{artifact_name}:latest\")\n",
        "\n",
        "# Recreate view using sample IDs\n",
        "sample_ids = dataset_artifact.metadata['sample_ids']\n",
        "recreated_view = dataset.select(sample_ids)\n",
        "print(f\"✓ Recreated training view: {len(recreated_view)} samples\")\n",
        "\n",
        "# Get predictions artifact\n",
        "pred_artifact_name = pred_result['artifact_name']\n",
        "preds_artifact = api.artifact(f\"voxel51/workflow-demo/{pred_artifact_name}:latest\")\n",
        "\n",
        "# Get low-confidence detections\n",
        "low_conf_ids = preds_artifact.metadata.get('low_confidence_label_ids', [])\n",
        "if low_conf_ids:\n",
        "    uncertain_view = dataset.select_labels(ids=low_conf_ids[:5])\n",
        "    print(f\"✓ Selected {uncertain_view.count('predictions.detections')} uncertain detections\")\n"
      ]
    },
    {
      "cell_type": "markdown",
      "metadata": {},
      "source": [
        "---\n",
        "\n",
        "## 5. Using in FiftyOne App\n",
        "\n",
        "Interactive usage with target view selection:\n"
      ]
    },
    {
      "cell_type": "code",
      "execution_count": null,
      "metadata": {},
      "outputs": [],
      "source": [
        "# Launch FiftyOne App\n",
        "session = fo.launch_app(dataset)\n",
        "\n",
        "# In the App UI, you can:\n",
        "# 1. Select samples manually (click in grid)\n",
        "# 2. Press backtick key to open operators menu\n",
        "# 3. Search for WandB operators\n",
        "# 4. Select target: Dataset, Current view, or Selected samples\n",
        "# 5. Execute with your parameters\n",
        "\n",
        "print(\"✓ FiftyOne App launched - use operators menu in the App\")\n"
      ]
    },
    {
      "cell_type": "markdown",
      "metadata": {},
      "source": [
        "---\n",
        "\n",
        "## Summary\n",
        "\n",
        "**Key Operators:**\n",
        "\n",
        "1. **`log_fiftyone_view_to_wandb`** - Track datasets/views with labels\n",
        "2. **`log_model_predictions`** - Track model outputs with label IDs\n",
        "\n",
        "**Features:**\n",
        "- ✅ All 15 FiftyOne label types supported\n",
        "- ✅ Per-class counts: \"person(5), car(3)\"\n",
        "- ✅ Sample IDs and Label IDs for reproducibility\n",
        "- ✅ VLM support with prompts and model config\n",
        "- ✅ Target view selection (Dataset, View, Selected samples)\n",
        "- ✅ Lightweight by default (no images)\n",
        "\n",
        "**Documentation**: See `wandb_plugin_info/` directory for complete guides.\n"
      ]
    }
  ],
  "metadata": {
    "language_info": {
      "name": "python"
    }
  },
  "nbformat": 4,
  "nbformat_minor": 2
}
